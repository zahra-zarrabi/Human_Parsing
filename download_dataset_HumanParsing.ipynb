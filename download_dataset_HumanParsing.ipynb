{
  "nbformat": 4,
  "nbformat_minor": 0,
  "metadata": {
    "colab": {
      "name": "download_dataset_HumanParsing.ipynb",
      "provenance": [],
      "collapsed_sections": [],
      "authorship_tag": "ABX9TyP6wRZkAAomc5iY816tkvnB",
      "include_colab_link": true
    },
    "kernelspec": {
      "name": "python3",
      "display_name": "Python 3"
    },
    "language_info": {
      "name": "python"
    }
  },
  "cells": [
    {
      "cell_type": "markdown",
      "metadata": {
        "id": "view-in-github",
        "colab_type": "text"
      },
      "source": [
        "<a href=\"https://colab.research.google.com/github/zahra-zarrabi/Human_Parsing/blob/main/download_dataset_HumanParsing.ipynb\" target=\"_parent\"><img src=\"https://colab.research.google.com/assets/colab-badge.svg\" alt=\"Open In Colab\"/></a>"
      ]
    },
    {
      "cell_type": "markdown",
      "source": [
        "## download dataset"
      ],
      "metadata": {
        "id": "Y2onHlEEKn0m"
      }
    },
    {
      "cell_type": "code",
      "source": [
        "!bash download_dataset.sh"
      ],
      "metadata": {
        "id": "udQ0aNFuKTPe"
      },
      "execution_count": null,
      "outputs": []
    },
    {
      "cell_type": "markdown",
      "source": [
        "# read dictionary and convert .jpg photos"
      ],
      "metadata": {
        "id": "alAvjJ7gK3HW"
      }
    },
    {
      "cell_type": "code",
      "execution_count": null,
      "metadata": {
        "id": "EK8U4IgjKLp0"
      },
      "outputs": [],
      "source": [
        "import pandas as pd\n",
        "import os\n",
        "from matplotlib.image import imsave\n",
        "dir_path = os.listdir('/content/drive/MyDrive/Exercise_56/data_BR/real')\n",
        "cnt = 0\n",
        "for folder_path in dir_path:\n",
        "  print()\n",
        "  file_path = os.path.join('/content/drive/MyDrive/Exercise_56/data_BR/real', folder_path, 'p_select.p')\n",
        "  images = pd.read_pickle(file_path)['RGB']\n",
        "  for img in images:\n",
        "    imsave('/content/drive/MyDrive/Exercise_56/Self-Correction-Human-Parsing/input/input_rgb/{}.jpg'.format(cnt), img)\n",
        "    cnt += 1\n",
        "  \n",
        "  file_path = os.path.join('/content/drive/MyDrive/Exercise_56/data_BR/real', folder_path, 'prescribed.p')\n",
        "  images = pd.read_pickle(file_path)['RGB']\n",
        "  for img in images:\n",
        "    imsave('/content/drive/MyDrive/Exercise_56/Self-Correction-Human-Parsing/input/input_rgb/{}.jpg'.format(cnt), img)\n",
        "    cnt += 1\n",
        "# # pickle_file = pickle.load_pickle(\"/content/drive/MyDrive/Exercise_56/data_BR/real/S103/p_select.p\")"
      ]
    }
  ]
}